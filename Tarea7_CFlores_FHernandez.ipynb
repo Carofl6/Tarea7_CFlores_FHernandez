{
 "cells": [
  {
   "cell_type": "markdown",
   "metadata": {},
   "source": [
    "<img style=\"float: left; margin: 30px 15px 15px 15px;\" src=\"https://pngimage.net/wp-content/uploads/2018/06/logo-iteso-png-5.png\" width=\"300\" height=\"500\" /> \n",
    "    \n",
    "    \n",
    "### <font color='navy'> Simulación de procesos financieros. \n",
    "\n",
    "**Nombres:** Carolina Flores Luelmo y Frida María Hernandez López.\n",
    "\n",
    "**Fecha:** 21 de octubre del 2021.\n",
    "    \n",
    "**Expediente** : Carolina: 713578. Frida: .\n",
    "    \n",
    "**Profesor:** Oscar David Jaramillo Zuluaga.\n",
    "\n",
    "**Liga GitHub:** https://github.com/Carofl6/Tarea7_CFlores_FHernandez\n",
    "\n",
    "# Tarea 7 \n",
    "    "
   ]
  },
  {
   "cell_type": "markdown",
   "metadata": {},
   "source": [
    "Aproxime el valor de la siguiente integral usando el método monte carlo crudo y método de reducción de varianza de muestreo estratíficado\n",
    "\n",
    "$$I=\\int_{0}^{1}x^2\\text{d}x=\\left.\\frac{x^3}{3}\\right|_{x=0}^{x=1}=\\frac{1}{3}\\approx 0.33333$$\n",
    "\n",
    "Pasos\n",
    "1. Cree una función que realice el método de muestreo estratíficado, recibiendo como único parámetro de entrada la cantidad de estratos y retornando las variables estratíficadas correspondientes.\n",
    "2. Reporte los resultados de la aproximación de la integral usando montecarlo crudo y muestreo estratíficado, en un Dataframe con la información mostrada en la siguiente imagen:\n",
    "![image.png](attachment:image.png)"
   ]
  },
  {
   "cell_type": "markdown",
   "metadata": {},
   "source": [
    "# Respuesta"
   ]
  },
  {
   "cell_type": "markdown",
   "metadata": {},
   "source": [
    "#### Código de solución `ESTUDIANTE 1: CAROLINA FLORES`"
   ]
  },
  {
   "cell_type": "code",
   "execution_count": 3,
   "metadata": {},
   "outputs": [],
   "source": [
    "import numpy as np\n",
    "from functools import reduce\n",
    "import time\n",
    "import matplotlib.pyplot as plt\n",
    "import scipy.stats as st\n",
    "import pandas as pd"
   ]
  },
  {
   "cell_type": "code",
   "execution_count": 4,
   "metadata": {},
   "outputs": [],
   "source": [
    "# Integración montecarlo\n",
    "def int_montecarlo(f:'Función a integrar',\n",
    "                   a:'Límite inferior de la integral',\n",
    "                   b:'Límite superior de la integral',\n",
    "                   U:'Muestra de números U~[a,b]'):\n",
    "    return (b-a)/len(U)*np.sum(f(U))\n",
    "\n",
    "#Método de reducción de varianza estratificado\n",
    "def B_estratos(B:\"Cantidad de estratos\"):\n",
    "    \"Función que devuelve B número de estratos a aplicar\"\n",
    "    U2 = np.random.rand(B)\n",
    "    i = np.arange(0,B)\n",
    "    return (U2 + i)/B"
   ]
  },
  {
   "cell_type": "code",
   "execution_count": 5,
   "metadata": {},
   "outputs": [
    {
     "data": {
      "text/html": [
       "<div>\n",
       "<style scoped>\n",
       "    .dataframe tbody tr th:only-of-type {\n",
       "        vertical-align: middle;\n",
       "    }\n",
       "\n",
       "    .dataframe tbody tr th {\n",
       "        vertical-align: top;\n",
       "    }\n",
       "\n",
       "    .dataframe thead th {\n",
       "        text-align: right;\n",
       "    }\n",
       "</style>\n",
       "<table border=\"1\" class=\"dataframe\">\n",
       "  <thead>\n",
       "    <tr style=\"text-align: right;\">\n",
       "      <th></th>\n",
       "      <th>Montecarlo Crudo</th>\n",
       "      <th>Error_relativo 1%</th>\n",
       "      <th>Montecarlo Estratificado</th>\n",
       "      <th>Error_relativo 2%</th>\n",
       "    </tr>\n",
       "    <tr>\n",
       "      <th>Cantidad de Terminos</th>\n",
       "      <th></th>\n",
       "      <th></th>\n",
       "      <th></th>\n",
       "      <th></th>\n",
       "    </tr>\n",
       "  </thead>\n",
       "  <tbody>\n",
       "    <tr>\n",
       "      <th>10</th>\n",
       "      <td>0.303279</td>\n",
       "      <td>9.016167</td>\n",
       "      <td>0.322382</td>\n",
       "      <td>3.285488e+00</td>\n",
       "    </tr>\n",
       "    <tr>\n",
       "      <th>100</th>\n",
       "      <td>0.333131</td>\n",
       "      <td>0.060675</td>\n",
       "      <td>0.333558</td>\n",
       "      <td>6.736677e-02</td>\n",
       "    </tr>\n",
       "    <tr>\n",
       "      <th>1000</th>\n",
       "      <td>0.342280</td>\n",
       "      <td>2.684119</td>\n",
       "      <td>0.333336</td>\n",
       "      <td>7.692674e-04</td>\n",
       "    </tr>\n",
       "    <tr>\n",
       "      <th>10000</th>\n",
       "      <td>0.332099</td>\n",
       "      <td>0.370274</td>\n",
       "      <td>0.333333</td>\n",
       "      <td>8.400150e-07</td>\n",
       "    </tr>\n",
       "    <tr>\n",
       "      <th>100000</th>\n",
       "      <td>0.331561</td>\n",
       "      <td>0.531568</td>\n",
       "      <td>0.333333</td>\n",
       "      <td>3.088481e-06</td>\n",
       "    </tr>\n",
       "    <tr>\n",
       "      <th>1000000</th>\n",
       "      <td>0.333210</td>\n",
       "      <td>0.037025</td>\n",
       "      <td>0.333333</td>\n",
       "      <td>5.143765e-08</td>\n",
       "    </tr>\n",
       "    <tr>\n",
       "      <th>10000000</th>\n",
       "      <td>0.333371</td>\n",
       "      <td>0.011409</td>\n",
       "      <td>0.333333</td>\n",
       "      <td>4.686751e-10</td>\n",
       "    </tr>\n",
       "  </tbody>\n",
       "</table>\n",
       "</div>"
      ],
      "text/plain": [
       "                      Montecarlo Crudo  Error_relativo 1%  \\\n",
       "Cantidad de Terminos                                        \n",
       "10                            0.303279           9.016167   \n",
       "100                           0.333131           0.060675   \n",
       "1000                          0.342280           2.684119   \n",
       "10000                         0.332099           0.370274   \n",
       "100000                        0.331561           0.531568   \n",
       "1000000                       0.333210           0.037025   \n",
       "10000000                      0.333371           0.011409   \n",
       "\n",
       "                      Montecarlo Estratificado  Error_relativo 2%  \n",
       "Cantidad de Terminos                                               \n",
       "10                                    0.322382       3.285488e+00  \n",
       "100                                   0.333558       6.736677e-02  \n",
       "1000                                  0.333336       7.692674e-04  \n",
       "10000                                 0.333333       8.400150e-07  \n",
       "100000                                0.333333       3.088481e-06  \n",
       "1000000                               0.333333       5.143765e-08  \n",
       "10000000                              0.333333       4.686751e-10  "
      ]
     },
     "execution_count": 5,
     "metadata": {},
     "output_type": "execute_result"
    }
   ],
   "source": [
    "I = 1/3\n",
    "a = 0; b = 1\n",
    "N = np.logspace(1,7,7,dtype=int)\n",
    "\n",
    "df = pd.DataFrame(index=N,columns=['Montecarlo Crudo', 'Error_relativo 1%',\"Montecarlo Estratificado\",'Error_relativo 2%'], \n",
    "                  dtype='float')\n",
    "df.index.name = \"Cantidad de Terminos\"\n",
    "\n",
    "# números aleatorios\n",
    "ui = list(map(lambda N:np.random.uniform(a,b,N),N))\n",
    "\n",
    "# aproximación por montecarlo \n",
    "res_crudo = list(map(lambda Y:int_montecarlo(lambda x:x**2,a,b,Y),ui))\n",
    "\n",
    "# Términos generados con el método estratificado\n",
    "ui_estratificado = list(map(lambda x: B_estratos(x), N))\n",
    "\n",
    "# Función f(x)\n",
    "f_x = lambda x: x**2\n",
    "res_est = list(map(lambda Y:f_x(Y),ui_estratificado))\n",
    "res_est = list(map(lambda Y:np.mean(Y),res_est))\n",
    "\n",
    "df.loc[N,\"Montecarlo Crudo\"] = res_crudo\n",
    "df.loc[N,\"Error_relativo 1%\"] = np.abs(df.loc[N,\"Montecarlo Crudo\"]-I)*100/I\n",
    "df.loc[N,\"Montecarlo Estratificado\"] = res_est\n",
    "df.loc[N,\"Error_relativo 2%\"] = np.abs(df.loc[N,\"Montecarlo Estratificado\"]-I)*100/I\n",
    "df"
   ]
  },
  {
   "cell_type": "markdown",
   "metadata": {},
   "source": [
    "#### Código de solución `ESTUDIANTE 2: FRIDA HERNANDEZ`"
   ]
  },
  {
   "cell_type": "code",
   "execution_count": null,
   "metadata": {},
   "outputs": [],
   "source": []
  }
 ],
 "metadata": {
  "kernelspec": {
   "display_name": "Python 3",
   "language": "python",
   "name": "python3"
  },
  "language_info": {
   "codemirror_mode": {
    "name": "ipython",
    "version": 3
   },
   "file_extension": ".py",
   "mimetype": "text/x-python",
   "name": "python",
   "nbconvert_exporter": "python",
   "pygments_lexer": "ipython3",
   "version": "3.6.5"
  }
 },
 "nbformat": 4,
 "nbformat_minor": 2
}
